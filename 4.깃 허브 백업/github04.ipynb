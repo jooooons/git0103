{
 "cells": [
  {
   "cell_type": "code",
   "execution_count": null,
   "metadata": {},
   "outputs": [],
   "source": [
    "# local repository (개인컴퓨터)\n",
    "# remote repository (깃허브)\n"
   ]
  },
  {
   "cell_type": "markdown",
   "metadata": {},
   "source": [
    ">지역 저장소 만들기"
   ]
  },
  {
   "cell_type": "code",
   "execution_count": null,
   "metadata": {},
   "outputs": [],
   "source": [
    "# echo \"# KDT4\" >> README.md\n",
    "# git init\n",
    "# git add README.md\n",
    "# git commit -m \"first commit\"\n",
    "# git branch -M main : 마스터를 메인으로 바꿈\n",
    "# git remote add origin https://github.com/jooooons/KDT4.git\n",
    "# git push -u origin main"
   ]
  },
  {
   "cell_type": "markdown",
   "metadata": {},
   "source": [
    ">푸시하기"
   ]
  },
  {
   "cell_type": "code",
   "execution_count": null,
   "metadata": {},
   "outputs": [],
   "source": [
    "# git remote add origin https://github.com/jooooons/KDT4.git\n",
    "# git branch -M main\n",
    "# git push -u origin main"
   ]
  }
 ],
 "metadata": {
  "language_info": {
   "name": "python"
  },
  "orig_nbformat": 4
 },
 "nbformat": 4,
 "nbformat_minor": 2
}
