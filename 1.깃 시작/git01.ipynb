{
 "cells": [
  {
   "cell_type": "markdown",
   "metadata": {},
   "source": [
    ">깃(git) : 분산 버전 관리 시스템"
   ]
  },
  {
   "cell_type": "code",
   "execution_count": null,
   "metadata": {},
   "outputs": [],
   "source": [
    "#1. 버전관리\n",
    "#2. 백업(USB/외장하드/구글드라이브/드롭박스)\n",
    "#3. 협업"
   ]
  },
  {
   "cell_type": "markdown",
   "metadata": {},
   "source": [
    ">깃 환경 설정"
   ]
  },
  {
   "cell_type": "code",
   "execution_count": null,
   "metadata": {},
   "outputs": [],
   "source": [
    "# 1. https://git-scm.com\n",
    "# 2. 실행: GUI(소스트리), cmd, git bash\n",
    "# 3. git config --global\n",
    "#    git config --global user.name \"\"\n"
   ]
  },
  {
   "cell_type": "markdown",
   "metadata": {},
   "source": [
    ">리눅스 명령어"
   ]
  },
  {
   "cell_type": "code",
   "execution_count": null,
   "metadata": {},
   "outputs": [],
   "source": [
    "#디렉토리 조회\n",
    "# 1. ~ : 현재 홈 디렉토리\n",
    "# 2. pwd : 현재 위치의 경로\n",
    "# 3. ls : 디렉토리와 파일 이름 출력\n",
    "#       -a : 숨긴파일\n",
    "#       -l : 상제정보 (주로 쓰는 표현 : ls -al)"
   ]
  },
  {
   "cell_type": "code",
   "execution_count": null,
   "metadata": {},
   "outputs": [],
   "source": [
    "#터미널 창에서 디렉터리 이동하기\n",
    "# 1. cd .. : 상위 디레터리 이동\n",
    "# 2. cd \"이동할 디렉터리명\"\n",
    "# 3. cd ~ : 홈 티렉터리 이동\n",
    "# 4. cd \"디스크드라이브\":\n",
    "# 5. ./(현재 디렉터리), ../(상위 디렉터리))"
   ]
  },
  {
   "cell_type": "code",
   "execution_count": null,
   "metadata": {},
   "outputs": [],
   "source": [
    "# 터미널 창에서 디렉터리 만들기 및 삭제\n",
    "# 1. mkdir : 폴더 생성\n",
    "# 2. rm : 폴더 삭제, -r 하위 디렉터리와 파일까지 모두 지음\n",
    "#    rm file1.txt\n",
    "#    rm *.exe\n",
    "#    rm *\n",
    "#    rm -r dir1/\n",
    "#    rm -rf dir1/ : f옵션을 사용하면 경고 없이 모두 강제로 삭제\n",
    "# * 주의 : 삭제할 디렉터리의 상위 디렉터리에서 rm 명령 실행해야 함."
   ]
  },
  {
   "cell_type": "code",
   "execution_count": null,
   "metadata": {},
   "outputs": [],
   "source": [
    "# vim, vi에서 텍스트 문서 만들기\n",
    "# 1. vi test.txt    (cat test.txt : bash에서 내용을 볼 수 있다.)\n",
    "# 2. '입력모드(i / a)', 'ex모드(ESC)'\n",
    "# 3. 입력 / 수정 -> '입력모드'에서 작업\n",
    "# 4. 'ex모드' -> 콜론(:) 입력\n",
    "#           ':wq' + ENTER 저장하고 편집기 끝내기\n",
    "#           ':q!' + ENTER 저장하지 않고 편집기 종료"
   ]
  }
 ],
 "metadata": {
  "language_info": {
   "name": "python"
  },
  "orig_nbformat": 4
 },
 "nbformat": 4,
 "nbformat_minor": 2
}
