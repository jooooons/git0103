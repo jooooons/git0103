{
 "cells": [
  {
   "cell_type": "code",
   "execution_count": null,
   "metadata": {},
   "outputs": [],
   "source": [
    "# 깃에서는 문서를 수정할 때마다 간단한 메모와 함께 수정내용을 스냅숏으로 찍어서 저장 -> \"버전\"\n",
    "\n",
    "# 1. mkdir hello-git\n",
    "# 2 git init : 깃을 사용할 수 있도록 디렉터리를 초기화"
   ]
  },
  {
   "cell_type": "code",
   "execution_count": null,
   "metadata": {},
   "outputs": [],
   "source": [
    "# 깃 버전? : 문서를 수정하고 저장할 때마다 생기는 것으로 파일 이름을 유지하면서 만든 시간과 수정 내용 기록\n",
    "# 스테이지와 커밋\n",
    "    # 1. 작업트리(working directory)\n",
    "    # 2. 스테이지(stage) : 버전으로 만들 파일이 대기하는 곳\n",
    "    # 3. 저장소(repository) : 스테이지에서 대기하고 있던 파일들을 버전으로 만들어서 저장하는 곳\n",
    "    \n",
    "    # 작업트리 ---('add')---> 스테이지 ------> 커밋('commit')"
   ]
  },
  {
   "cell_type": "code",
   "execution_count": null,
   "metadata": {},
   "outputs": [],
   "source": [
    "# git status : 현재 버전관리 상태\n",
    "# git add <파일명> : 스테이지에 수정한 파일을 추가(스테이징)   -> 주로 git add . 마침표 붙여서 사용함\n",
    "# git commit -m \"\" : 버전 생성\n",
    "# git commit -am \"\" : 두번째 이상부터는 add와 commit을 한번에 할 수 있다.\n",
    "# git log : 버전 정보 출력\n",
    "# git log --stat : 관련 파일 표시, q 눌러야 빠져나올 수 있다.\n",
    "# git log --online : 한줄로 표현됨\n",
    "# git log --branches : 전체 브랜치 버전 표시\n",
    "# git log --oneline --branches --graph\n",
    "# git diff : 최신 버전과 다른점 확인\n",
    "# git checkout -- <파일명> = git restore <파일명>"
   ]
  },
  {
   "cell_type": "markdown",
   "metadata": {},
   "source": [
    ">작업 되돌리기"
   ]
  },
  {
   "cell_type": "code",
   "execution_count": null,
   "metadata": {},
   "outputs": [],
   "source": [
    "# 1. 작업트리에서 수정한 파일 되돌리기(git checkout -- <파일명> = git restore <파일명>)\n",
    "# 2. 스테이징 되돌리기(git restore --staged <파일명>)\n",
    "# 3. 최신 커밋 되돌리기(git reset HEAD^)\n",
    "# 참고 : git reset 명령어 옵션\n",
    "# --soft HEAD^ : 최근 커밋을 하기 전 상태로 작업 트리를 되돌림\n",
    "# --hard HEAD^ : 최근 커밋, 스테이징, 파일 수정을 하기 전 상태의 작업트리로 변경(이 옵션으로 되돌린 내용은 복구 불가능)\n",
    "# 4. 특정 커밋으로 되돌리기(git reset <되돌리려는 커밋캐시>)\n",
    "# 5. 커밋을 남겨두고 되돌리기(git revert <취소하려는 버전 커밋캐시>)"
   ]
  }
 ],
 "metadata": {
  "language_info": {
   "name": "python"
  },
  "orig_nbformat": 4
 },
 "nbformat": 4,
 "nbformat_minor": 2
}
