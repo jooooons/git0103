{
 "cells": [
  {
   "cell_type": "markdown",
   "metadata": {},
   "source": [
    ">브랜치란?    \n",
    "-마스터를 그대로 둔 상태에서 추가적인 소스를 입력할 수 있는 가지들"
   ]
  },
  {
   "cell_type": "markdown",
   "metadata": {},
   "source": [
    ">브랜치 만들기"
   ]
  },
  {
   "cell_type": "code",
   "execution_count": null,
   "metadata": {},
   "outputs": [],
   "source": [
    "# 매뉴얼\n",
    "# - 애플, 구글, 마이크로소프트\n",
    "# git branch : 깃에서 브랜치를 만들거나 확인하는 명령\n",
    "#              git branch <브랜치명>\n",
    "# git checkout <브랜치명> : 브랜치전환"
   ]
  },
  {
   "cell_type": "markdown",
   "metadata": {},
   "source": [
    ">브랜치 병합"
   ]
  },
  {
   "cell_type": "code",
   "execution_count": null,
   "metadata": {},
   "outputs": [],
   "source": [
    "# 어느 시점에서 브랜치 작업을 마무리 -> 기존 브랜치와 병합(merge)     병합은 꼭 마스터 브랜치에서!!!!\n",
    "\n",
    "# 1. 서로 다른 파일 병합하기\n",
    "# 2. 같은 문서의 다른 위치를 수정한 뒤 병합하기\n",
    "# 3. 같은 문서의 같은 위치를 수정한 뒤 병합하기"
   ]
  }
 ],
 "metadata": {
  "language_info": {
   "name": "python"
  },
  "orig_nbformat": 4
 },
 "nbformat": 4,
 "nbformat_minor": 2
}
